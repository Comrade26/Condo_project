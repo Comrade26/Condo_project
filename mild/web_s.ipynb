{
 "cells": [
  {
   "cell_type": "code",
   "execution_count": 1,
   "metadata": {},
   "outputs": [],
   "source": [
    "import pandas as pd\n",
    "import re"
   ]
  },
  {
   "cell_type": "code",
   "execution_count": 2,
   "metadata": {},
   "outputs": [],
   "source": [
    "url = r'data/ddproperty_8.csv'\n",
    "df = pd.read_csv(url)\n",
    "pd.set_option('display.max_colwidth', None)"
   ]
  },
  {
   "cell_type": "code",
   "execution_count": 3,
   "metadata": {},
   "outputs": [],
   "source": [
    "df['faci'] = df['faci'].astype(str)\n",
    "df['faci'] = df['faci'].str.replace('\\n', '').str.strip()\n",
    "df['faci'] = df['faci'].apply(lambda x: re.sub(r'\\s+', ' ', x))"
   ]
  },
  {
   "cell_type": "code",
   "execution_count": 4,
   "metadata": {},
   "outputs": [],
   "source": [
    "def test():\n",
    "    for i in range(len(df['faci'])):\n",
    "        yield df.loc[i, 'faci'].split(' ')"
   ]
  },
  {
   "cell_type": "code",
   "execution_count": null,
   "metadata": {},
   "outputs": [],
   "source": [
    "data = list(test())\n",
    "data"
   ]
  },
  {
   "cell_type": "code",
   "execution_count": 8,
   "metadata": {},
   "outputs": [
    {
     "data": {
      "text/plain": [
       "{'&',\n",
       " '24',\n",
       " '3',\n",
       " 'All',\n",
       " 'Amenities',\n",
       " 'Eateries',\n",
       " 'Facilities',\n",
       " 'Lift',\n",
       " 'Show',\n",
       " 'lobby',\n",
       " 'nan',\n",
       " 'กล้องวงจรปิด',\n",
       " 'การตกแต่ง',\n",
       " 'การเชื่อมต่ออินเทอร์เน็ต',\n",
       " 'คลับเฮ้าส์',\n",
       " 'จากุซซี่',\n",
       " 'จุดเด่น',\n",
       " 'ชม.',\n",
       " 'ชั้นบน',\n",
       " 'ซัก',\n",
       " 'ซาวน่า',\n",
       " 'ตู้เย็น',\n",
       " 'ทีวี',\n",
       " 'ที่จอดรถ',\n",
       " 'พื้นทางเดินหินเพื่อสุขภาพ',\n",
       " 'ฟิตเนส',\n",
       " 'มินิมาร์ท',\n",
       " 'ระบบเสียง',\n",
       " 'ระเบียง',\n",
       " 'ระเบียงดาดฟ้า',\n",
       " 'รักษาความปลอดภัย',\n",
       " 'รีด',\n",
       " 'ลานกลางแจ้ง',\n",
       " 'ลานจอดรถ',\n",
       " 'ลานจอดรถใต้ดิน',\n",
       " 'วิวเมือง',\n",
       " 'ศาลาชมทิวทัศน์',\n",
       " 'สกายเลานจ์',\n",
       " 'สถานที่ใกล้เคียง',\n",
       " 'สนามเด็กเล่น',\n",
       " 'สปา',\n",
       " 'สภาพเดิม',\n",
       " 'สระว่ายน้ำ',\n",
       " 'สระเด็ก',\n",
       " 'สวน/วิวสวนธรรมชาติ',\n",
       " 'สวนสาธารณะ',\n",
       " 'สิ่งอำนวยความสะดวก',\n",
       " 'หอประชุมอเนกประสงค์',\n",
       " 'ห้องนอน',\n",
       " 'ห้องบิลเลียด',\n",
       " 'ห้องประชุม',\n",
       " 'ห้องมุม',\n",
       " 'ห้องยิมนาสติก',\n",
       " 'ห้องสมุด',\n",
       " 'ห้องอบซาวนา',\n",
       " 'ห้องเล่นเกมส์',\n",
       " 'อบ',\n",
       " 'อ่างอาบน้ำ',\n",
       " 'อ่างแช่น้ำ',\n",
       " 'เครื่องซักผ้า',\n",
       " 'เครื่องดูดควันจากเตา',\n",
       " 'เครื่องดูดฝุ่น',\n",
       " 'เครื่องทำครัว',\n",
       " 'เครื่องทำน้ำอุ่น',\n",
       " 'เครื่องปรับอากาศ',\n",
       " 'เครื่องเป่า',\n",
       " 'เครื่องเล่นดีวีดี',\n",
       " 'เคเบิล',\n",
       " 'เตาทำบาบีคิว',\n",
       " 'เตารีด/โต๊ะรองรีด',\n",
       " 'เตาอบ/ไมโครเวฟ',\n",
       " 'เทอเรซ',\n",
       " 'เพนท์เฮ้าส์',\n",
       " 'เฟอร์นิเจอร์ในห้องรับแขก',\n",
       " 'เฟอร์นิเจอร์ในห้องอาหาร',\n",
       " 'เล้าจ์',\n",
       " 'โทรทัศน์'}"
      ]
     },
     "execution_count": 8,
     "metadata": {},
     "output_type": "execute_result"
    }
   ],
   "source": [
    "combined_list = sum(data , [])\n",
    "set(combined_list)"
   ]
  },
  {
   "cell_type": "code",
   "execution_count": null,
   "metadata": {},
   "outputs": [],
   "source": [
    "df['faci'].str.contains('ลานจอดรถ')"
   ]
  },
  {
   "cell_type": "code",
   "execution_count": null,
   "metadata": {},
   "outputs": [],
   "source": [
    "df['faci'][0].strip()"
   ]
  }
 ],
 "metadata": {
  "kernelspec": {
   "display_name": "base",
   "language": "python",
   "name": "python3"
  },
  "language_info": {
   "codemirror_mode": {
    "name": "ipython",
    "version": 3
   },
   "file_extension": ".py",
   "mimetype": "text/x-python",
   "name": "python",
   "nbconvert_exporter": "python",
   "pygments_lexer": "ipython3",
   "version": "3.9.16"
  },
  "orig_nbformat": 4
 },
 "nbformat": 4,
 "nbformat_minor": 2
}
