{
 "cells": [
  {
   "attachments": {},
   "cell_type": "markdown",
   "metadata": {},
   "source": [
    "<h1>Variable</h1>\n",
    "<ol>\n",
    "    <li>ทำเล/ที่ตั้ง</li>\n",
    "    <li>ขนาด</li>\n",
    "    <li>funtion ในห้อง</li>\n",
    "</ol>\n",
    "<p>pooh: ลานจอดรถถูกมองว่าไม่ทำเงินในทางการเงินจึงมักจจะถูกคิดค่าเสียโอกาศด้วย</p>"
   ]
  },
  {
   "cell_type": "code",
   "execution_count": 10,
   "metadata": {},
   "outputs": [],
   "source": [
    "import csv\n",
    "\n",
    "with open('data/ddproperty_1_51.csv') as csvfile:\n",
    "    csvreader = csv.reader(csvfile)"
   ]
  }
 ],
 "metadata": {
  "kernelspec": {
   "display_name": "base",
   "language": "python",
   "name": "python3"
  },
  "language_info": {
   "codemirror_mode": {
    "name": "ipython",
    "version": 3
   },
   "file_extension": ".py",
   "mimetype": "text/x-python",
   "name": "python",
   "nbconvert_exporter": "python",
   "pygments_lexer": "ipython3",
   "version": "3.9.13"
  },
  "orig_nbformat": 4
 },
 "nbformat": 4,
 "nbformat_minor": 2
}
