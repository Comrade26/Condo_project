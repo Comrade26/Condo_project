{
 "cells": [
  {
   "attachments": {},
   "cell_type": "markdown",
   "metadata": {},
   "source": [
    "<h1>Variable</h1>\n",
    "<ol>\n",
    "    <li>ทำเล/ที่ตั้ง</li>\n",
    "    <li>ขนาด</li>\n",
    "    <li>funtion ในห้อง</li>\n",
    "</ol>\n",
    "<p>pooh: ลานจอดรถถูกมองว่าไม่ทำเงินในทางการเงินจึงมักจจะถูกคิดค่าเสียโอกาศด้วย</p>"
   ]
  },
  {
   "cell_type": "code",
   "execution_count": 1,
   "metadata": {},
   "outputs": [],
   "source": [
    "import re\n",
    "import os\n",
    "import csv\n",
    "import numpy as np\n",
    "import pandas as pd\n",
    "pd.set_option('display.max_columns', None)\n",
    "# pd.set_option('display.max_rows', None)\n",
    "from functools import reduce"
   ]
  },
  {
   "cell_type": "code",
   "execution_count": 2,
   "metadata": {},
   "outputs": [],
   "source": [
    "def get_data():\n",
    "    dir_path = 'data/'\n",
    "    for filename in os.listdir(dir_path):\n",
    "        if filename.endswith('.csv'):\n",
    "            with open(os.path.join(dir_path, filename)) as csvfile:\n",
    "                data = list(csv.reader(csvfile))\n",
    "            yield data\n",
    "\n",
    "\n",
    "data = list(get_data())"
   ]
  },
  {
   "cell_type": "code",
   "execution_count": 3,
   "metadata": {},
   "outputs": [],
   "source": [
    "def create_dataframe(data):\n",
    "    for j in data:\n",
    "        yield pd.DataFrame(j[1:], columns = j[0])\n",
    "\n",
    "df_list = list(create_dataframe(data))"
   ]
  },
  {
   "cell_type": "code",
   "execution_count": 4,
   "metadata": {},
   "outputs": [],
   "source": [
    "df = reduce(lambda df1,df2: pd.merge(df1,df2,how ='outer'), df_list)"
   ]
  },
  {
   "cell_type": "code",
   "execution_count": 5,
   "metadata": {},
   "outputs": [],
   "source": [
    "used_df = df.iloc[:, :14].drop(columns = ['nav-link href', 'nav-link'])"
   ]
  },
  {
   "cell_type": "code",
   "execution_count": 6,
   "metadata": {},
   "outputs": [
    {
     "data": {
      "text/plain": [
       "9985"
      ]
     },
     "execution_count": 6,
     "metadata": {},
     "output_type": "execute_result"
    }
   ],
   "source": [
    "len(used_df)"
   ]
  },
  {
   "cell_type": "code",
   "execution_count": 7,
   "metadata": {},
   "outputs": [
    {
     "data": {
      "text/plain": [
       "7985"
      ]
     },
     "execution_count": 7,
     "metadata": {},
     "output_type": "execute_result"
    }
   ],
   "source": [
    "len(used_df.dropna())"
   ]
  },
  {
   "cell_type": "code",
   "execution_count": 8,
   "metadata": {},
   "outputs": [
    {
     "data": {
      "text/html": [
       "<div>\n",
       "<style scoped>\n",
       "    .dataframe tbody tr th:only-of-type {\n",
       "        vertical-align: middle;\n",
       "    }\n",
       "\n",
       "    .dataframe tbody tr th {\n",
       "        vertical-align: top;\n",
       "    }\n",
       "\n",
       "    .dataframe thead th {\n",
       "        text-align: right;\n",
       "    }\n",
       "</style>\n",
       "<table border=\"1\" class=\"dataframe\">\n",
       "  <thead>\n",
       "    <tr style=\"text-align: right;\">\n",
       "      <th></th>\n",
       "      <th>gallery-information</th>\n",
       "      <th>listing-location</th>\n",
       "      <th>price</th>\n",
       "      <th>bed</th>\n",
       "      <th>bath</th>\n",
       "      <th>listing-floorarea</th>\n",
       "      <th>listing-floorarea 2</th>\n",
       "      <th>listing-features</th>\n",
       "      <th>listing-property-type 2</th>\n",
       "      <th>listing-property-type 3</th>\n",
       "      <th>listing-recency</th>\n",
       "      <th>name</th>\n",
       "    </tr>\n",
       "  </thead>\n",
       "  <tbody>\n",
       "    <tr>\n",
       "      <th>0</th>\n",
       "      <td>24</td>\n",
       "      <td>10 ถนนรางน้ำ แขวงถนนพญาไท เขตราชเทวี กรุงเทพมห...</td>\n",
       "      <td>13,989,800</td>\n",
       "      <td>2</td>\n",
       "      <td>2</td>\n",
       "      <td>64 ตร.ม.</td>\n",
       "      <td>฿220,000 / ตารางเมตร</td>\n",
       "      <td>2 นาที (160 ม.) ถึง N3 BTS อนุสาวรีย์ชัยสมรภูมิ</td>\n",
       "      <td>ขายขาด</td>\n",
       "      <td>ปีที่สร้างเสร็จ: 2018</td>\n",
       "      <td>18 ชั่วโมง</td>\n",
       "      <td>คุณภูมิพัฒน์ สุรเดช</td>\n",
       "    </tr>\n",
       "    <tr>\n",
       "      <th>1</th>\n",
       "      <td>50</td>\n",
       "      <td>ซอยสุขุมวิท 61 ถนนสุขุมวิท แขวงคลองตันเหนือ เข...</td>\n",
       "      <td>10,500,000</td>\n",
       "      <td>1</td>\n",
       "      <td>1</td>\n",
       "      <td>49 ตร.ม.</td>\n",
       "      <td>฿214,155 / ตารางเมตร</td>\n",
       "      <td>12 นาที (880 ม.) ถึง E6 BTS ทองหล่อ</td>\n",
       "      <td>ขายขาด</td>\n",
       "      <td>ปีที่สร้างเสร็จ: 2020</td>\n",
       "      <td>18 ชั่วโมง</td>\n",
       "      <td>วินเนอร์ [แว่น].[Jennie]</td>\n",
       "    </tr>\n",
       "    <tr>\n",
       "      <th>2</th>\n",
       "      <td>18</td>\n",
       "      <td>พระโขนง, คลองเตย, กรุงเทพ</td>\n",
       "      <td>3,900,000</td>\n",
       "      <td>2</td>\n",
       "      <td>2</td>\n",
       "      <td>53 ตร.ม.</td>\n",
       "      <td>฿73,585 / ตารางเมตร</td>\n",
       "      <td>2 นาที (170 ม.) ถึง E7 BTS เอกมัย</td>\n",
       "      <td></td>\n",
       "      <td></td>\n",
       "      <td>18 ชั่วโมง</td>\n",
       "      <td>วินเนอร์ [แว่น].[Jennie]</td>\n",
       "    </tr>\n",
       "    <tr>\n",
       "      <th>3</th>\n",
       "      <td>23</td>\n",
       "      <td>- ถนนเพชรบุรี, ลุมพินี, ปทุมวัน, กรุงเทพ</td>\n",
       "      <td>10,000,000</td>\n",
       "      <td>1</td>\n",
       "      <td>1</td>\n",
       "      <td>57 ตร.ม.</td>\n",
       "      <td>฿176,211 / ตารางเมตร</td>\n",
       "      <td>7 นาที (540 ม.) ถึง E1 BTS ชิดลม</td>\n",
       "      <td>ขายขาด</td>\n",
       "      <td>ปีที่สร้างเสร็จ: 2009</td>\n",
       "      <td>18 ชั่วโมง</td>\n",
       "      <td>กฎชกร เตชะรัตนยืนยง</td>\n",
       "    </tr>\n",
       "    <tr>\n",
       "      <th>4</th>\n",
       "      <td>23</td>\n",
       "      <td>เจริญนคร, คลองต้นไทร, คลองสาน, กรุงเทพ</td>\n",
       "      <td>5,400,000</td>\n",
       "      <td>2</td>\n",
       "      <td>1</td>\n",
       "      <td>56 ตร.ม.</td>\n",
       "      <td>฿97,297 / ตารางเมตร</td>\n",
       "      <td>3 นาที (190 ม.) ถึง G1 BTS กรุงธนบุรี</td>\n",
       "      <td>ขายขาด</td>\n",
       "      <td></td>\n",
       "      <td>18 ชั่วโมง</td>\n",
       "      <td>กฎชกร เตชะรัตนยืนยง</td>\n",
       "    </tr>\n",
       "  </tbody>\n",
       "</table>\n",
       "</div>"
      ],
      "text/plain": [
       "  gallery-information                                   listing-location  \\\n",
       "0                  24  10 ถนนรางน้ำ แขวงถนนพญาไท เขตราชเทวี กรุงเทพมห...   \n",
       "1                  50  ซอยสุขุมวิท 61 ถนนสุขุมวิท แขวงคลองตันเหนือ เข...   \n",
       "2                  18                          พระโขนง, คลองเตย, กรุงเทพ   \n",
       "3                  23           - ถนนเพชรบุรี, ลุมพินี, ปทุมวัน, กรุงเทพ   \n",
       "4                  23             เจริญนคร, คลองต้นไทร, คลองสาน, กรุงเทพ   \n",
       "\n",
       "        price bed bath listing-floorarea   listing-floorarea 2  \\\n",
       "0  13,989,800   2    2          64 ตร.ม.  ฿220,000 / ตารางเมตร   \n",
       "1  10,500,000   1    1          49 ตร.ม.  ฿214,155 / ตารางเมตร   \n",
       "2   3,900,000   2    2          53 ตร.ม.   ฿73,585 / ตารางเมตร   \n",
       "3  10,000,000   1    1          57 ตร.ม.  ฿176,211 / ตารางเมตร   \n",
       "4   5,400,000   2    1          56 ตร.ม.   ฿97,297 / ตารางเมตร   \n",
       "\n",
       "                                  listing-features listing-property-type 2  \\\n",
       "0  2 นาที (160 ม.) ถึง N3 BTS อนุสาวรีย์ชัยสมรภูมิ                  ขายขาด   \n",
       "1              12 นาที (880 ม.) ถึง E6 BTS ทองหล่อ                  ขายขาด   \n",
       "2                2 นาที (170 ม.) ถึง E7 BTS เอกมัย                           \n",
       "3                 7 นาที (540 ม.) ถึง E1 BTS ชิดลม                  ขายขาด   \n",
       "4            3 นาที (190 ม.) ถึง G1 BTS กรุงธนบุรี                  ขายขาด   \n",
       "\n",
       "  listing-property-type 3 listing-recency                      name  \n",
       "0   ปีที่สร้างเสร็จ: 2018      18 ชั่วโมง       คุณภูมิพัฒน์ สุรเดช  \n",
       "1   ปีที่สร้างเสร็จ: 2020      18 ชั่วโมง  วินเนอร์ [แว่น].[Jennie]  \n",
       "2                              18 ชั่วโมง  วินเนอร์ [แว่น].[Jennie]  \n",
       "3   ปีที่สร้างเสร็จ: 2009      18 ชั่วโมง       กฎชกร เตชะรัตนยืนยง  \n",
       "4                              18 ชั่วโมง       กฎชกร เตชะรัตนยืนยง  "
      ]
     },
     "execution_count": 8,
     "metadata": {},
     "output_type": "execute_result"
    }
   ],
   "source": [
    "used_df.head()"
   ]
  },
  {
   "cell_type": "code",
   "execution_count": 16,
   "metadata": {},
   "outputs": [],
   "source": [
    "price_per_area = used_df['listing-floorarea 2'].str.extract(r'฿(?P<price_per_area>.+)\\s/').replace(',', '', regex = True).astype(float)\n",
    "area = used_df['listing-floorarea 2'].str.extract(r'\\s/\\s(?P<area>.+)')\n",
    "price_per_area = pd.merge(price_per_area, area, left_index=True, right_index=True)"
   ]
  },
  {
   "cell_type": "code",
   "execution_count": 18,
   "metadata": {},
   "outputs": [
    {
     "data": {
      "text/html": [
       "<div>\n",
       "<style scoped>\n",
       "    .dataframe tbody tr th:only-of-type {\n",
       "        vertical-align: middle;\n",
       "    }\n",
       "\n",
       "    .dataframe tbody tr th {\n",
       "        vertical-align: top;\n",
       "    }\n",
       "\n",
       "    .dataframe thead th {\n",
       "        text-align: right;\n",
       "    }\n",
       "</style>\n",
       "<table border=\"1\" class=\"dataframe\">\n",
       "  <thead>\n",
       "    <tr style=\"text-align: right;\">\n",
       "      <th></th>\n",
       "      <th>price_per_area</th>\n",
       "      <th>area</th>\n",
       "    </tr>\n",
       "  </thead>\n",
       "  <tbody>\n",
       "    <tr>\n",
       "      <th>0</th>\n",
       "      <td>220000.0</td>\n",
       "      <td>ตารางเมตร</td>\n",
       "    </tr>\n",
       "    <tr>\n",
       "      <th>1</th>\n",
       "      <td>214155.0</td>\n",
       "      <td>ตารางเมตร</td>\n",
       "    </tr>\n",
       "    <tr>\n",
       "      <th>2</th>\n",
       "      <td>73585.0</td>\n",
       "      <td>ตารางเมตร</td>\n",
       "    </tr>\n",
       "    <tr>\n",
       "      <th>3</th>\n",
       "      <td>176211.0</td>\n",
       "      <td>ตารางเมตร</td>\n",
       "    </tr>\n",
       "    <tr>\n",
       "      <th>4</th>\n",
       "      <td>97297.0</td>\n",
       "      <td>ตารางเมตร</td>\n",
       "    </tr>\n",
       "  </tbody>\n",
       "</table>\n",
       "</div>"
      ],
      "text/plain": [
       "   price_per_area       area\n",
       "0        220000.0  ตารางเมตร\n",
       "1        214155.0  ตารางเมตร\n",
       "2         73585.0  ตารางเมตร\n",
       "3        176211.0  ตารางเมตร\n",
       "4         97297.0  ตารางเมตร"
      ]
     },
     "execution_count": 18,
     "metadata": {},
     "output_type": "execute_result"
    }
   ],
   "source": [
    "price_per_area.head()"
   ]
  },
  {
   "cell_type": "code",
   "execution_count": null,
   "metadata": {},
   "outputs": [],
   "source": []
  },
  {
   "cell_type": "code",
   "execution_count": null,
   "metadata": {},
   "outputs": [],
   "source": [
    "# import xgboost as xgb\n",
    "# import pandas as pd"
   ]
  },
  {
   "cell_type": "code",
   "execution_count": null,
   "metadata": {},
   "outputs": [],
   "source": [
    "# target = 'price'\n",
    "# X = used_df.drop(columns = target)\n",
    "# Y = used_df[target]"
   ]
  },
  {
   "cell_type": "code",
   "execution_count": null,
   "metadata": {},
   "outputs": [],
   "source": [
    "# data = pd.read_csv('data.csv')\n",
    "# X = data.drop('target', axis=1)\n",
    "# y = data['target']\n",
    "\n",
    "# model = xgb.XGBClassifier()\n",
    "# model.fit(X, y)\n",
    "\n",
    "# importance_type = ['weight', 'gain']\n",
    "# for i in importance_type:\n",
    "#     print(f'Feature importance type: {i}')\n",
    "#     importance = model.get_booster().get_score(importance_type=i)\n",
    "#     print(importance)\n"
   ]
  }
 ],
 "metadata": {
  "kernelspec": {
   "display_name": "base",
   "language": "python",
   "name": "python3"
  },
  "language_info": {
   "codemirror_mode": {
    "name": "ipython",
    "version": 3
   },
   "file_extension": ".py",
   "mimetype": "text/x-python",
   "name": "python",
   "nbconvert_exporter": "python",
   "pygments_lexer": "ipython3",
   "version": "3.9.13"
  },
  "orig_nbformat": 4,
  "vscode": {
   "interpreter": {
    "hash": "ad2bdc8ecc057115af97d19610ffacc2b4e99fae6737bb82f5d7fb13d2f2c186"
   }
  }
 },
 "nbformat": 4,
 "nbformat_minor": 2
}
