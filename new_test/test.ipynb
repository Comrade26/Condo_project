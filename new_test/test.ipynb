{
 "cells": [
  {
   "cell_type": "code",
   "execution_count": null,
   "metadata": {},
   "outputs": [],
   "source": [
    "import re\n",
    "import os\n",
    "import csv\n",
    "import numpy as np\n",
    "import pandas as pd\n",
    "pd.set_option('display.max_columns', None)\n",
    "from functools import reduce"
   ]
  },
  {
   "cell_type": "code",
   "execution_count": null,
   "metadata": {},
   "outputs": [],
   "source": [
    "def get_data(path):\n",
    "    dir_path = path\n",
    "    for filename in os.listdir(dir_path):\n",
    "        if filename.endswith('.csv'):\n",
    "            with open(os.path.join(dir_path, filename)) as csvfile:\n",
    "                data = list(csv.reader(csvfile))\n",
    "            yield data\n",
    "\n",
    "def create_dataframe(data):\n",
    "    for d in data:\n",
    "        try:\n",
    "            df = pd.DataFrame(d[1:], columns=d[0])\n",
    "            yield df\n",
    "        except Exception as e:\n",
    "            print(f\"Error creating DataFrame: {e}\")\n",
    "\n",
    "data = get_data('data/')\n",
    "df_list = list(create_dataframe(data))\n",
    "df = reduce(lambda df1,df2: pd.merge(df1,df2,how ='outer'), df_list)\n",
    "df = df.iloc[:, 5:]"
   ]
  },
  {
   "cell_type": "code",
   "execution_count": null,
   "metadata": {},
   "outputs": [],
   "source": [
    "def clean_space(df, columns: dict):\n",
    "    df_copy = df.copy()\n",
    "    for column in columns:\n",
    "            df_copy[column] = df_copy[column].astype(str)\n",
    "            df_copy[column] = df_copy[column].str.replace('\\n', '').str.strip()\n",
    "            df_copy[column] = df_copy[column].apply(lambda x: re.sub(r'\\s{2,}', columns[column], x))\n",
    "            yield column, df_copy[column]\n",
    "\n",
    "def replace_column_data(df, columns_data: dict):\n",
    "    df_replaced = df.copy()\n",
    "    for key in columns_data.keys():\n",
    "        df_replaced[key] = columns_data[key]\n",
    "    return df_replaced\n",
    "\n",
    "clean_columns = dict(clean_space(df, {\"facility\": ',', \"space\": ' '}))\n",
    "df = replace_column_data(df, clean_columns)"
   ]
  },
  {
   "cell_type": "code",
   "execution_count": null,
   "metadata": {},
   "outputs": [],
   "source": [
    "df = df.replace([\"null\", \"ไม่มีข้อมูล\"], np.NaN)\n",
    "df[\"price\"] = df[\"price\"].replace(r\",\", '', regex = True).astype(float)\n",
    "df[\"bedroom\"] = df[\"bedroom\"].replace(\"สตูดิโอ\", 0).astype(float)\n",
    "df[\"bathroom\"] = df[\"bathroom\"].astype(float)\n",
    "df[\"space\"] = df[\"space\"].str.extract(r\"([\\d\\.]+[\\d+])\").astype(float)\n",
    "df[\"year\"] = df[\"year\"].str.extract(r\"(\\d{4})\").astype(float)"
   ]
  },
  {
   "cell_type": "code",
   "execution_count": null,
   "metadata": {},
   "outputs": [],
   "source": [
    "combined_list = sum(df[\"facility\"].astype(str).str.split(',') , [])\n",
    "set(combined_list)"
   ]
  }
 ],
 "metadata": {
  "kernelspec": {
   "display_name": "base",
   "language": "python",
   "name": "python3"
  },
  "language_info": {
   "codemirror_mode": {
    "name": "ipython",
    "version": 3
   },
   "file_extension": ".py",
   "mimetype": "text/x-python",
   "name": "python",
   "nbconvert_exporter": "python",
   "pygments_lexer": "ipython3",
   "version": "3.9.16"
  },
  "orig_nbformat": 4
 },
 "nbformat": 4,
 "nbformat_minor": 2
}
