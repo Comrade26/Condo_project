{
 "cells": [
  {
   "cell_type": "code",
   "execution_count": 1,
   "metadata": {},
   "outputs": [],
   "source": [
    "import re\n",
    "import os\n",
    "import csv\n",
    "import numpy as np\n",
    "import pandas as pd\n",
    "pd.set_option('display.max_columns', None)\n",
    "from functools import reduce"
   ]
  },
  {
   "attachments": {},
   "cell_type": "markdown",
   "metadata": {},
   "source": [
    "# Import data and convert it into 1 dataframe"
   ]
  },
  {
   "cell_type": "code",
   "execution_count": 2,
   "metadata": {},
   "outputs": [],
   "source": [
    "def get_data(path):\n",
    "    dir_path = path\n",
    "    for filename in os.listdir(dir_path):\n",
    "        if filename.endswith('.csv'):\n",
    "            with open(os.path.join(dir_path, filename)) as csvfile:\n",
    "                data = list(csv.reader(csvfile))\n",
    "            yield data\n",
    "\n",
    "def create_dataframe(data):\n",
    "    for d in data:\n",
    "        try:\n",
    "            df = pd.DataFrame(d[1:], columns=d[0])\n",
    "            yield df\n",
    "        except Exception as e:\n",
    "            print(f\"Error creating DataFrame: {e}\")\n",
    "\n",
    "data = get_data('data/')\n",
    "df_list = list(create_dataframe(data))\n",
    "df = reduce(lambda df1,df2: pd.merge(df1,df2,how ='outer'), df_list)\n",
    "df = df.iloc[:, 5:]"
   ]
  },
  {
   "cell_type": "code",
   "execution_count": 3,
   "metadata": {},
   "outputs": [],
   "source": [
    "def clean_space(df, columns: dict):\n",
    "    df_copy = df.copy()\n",
    "    for column in columns:\n",
    "            df_copy[column] = df_copy[column].astype(str)\n",
    "            df_copy[column] = df_copy[column].str.replace('\\n', '').str.strip()\n",
    "            df_copy[column] = df_copy[column].apply(lambda x: re.sub(r'\\s{2,}', columns[column], x))\n",
    "            yield column, df_copy[column]\n",
    "\n",
    "def replace_column_data(df, columns_data: dict):\n",
    "    df_replaced = df.copy()\n",
    "    for key in columns_data.keys():\n",
    "        df_replaced[key] = columns_data[key]\n",
    "    return df_replaced\n",
    "\n",
    "clean_columns = dict(clean_space(df, {\"facility\": ',', \"space\": ' '}))\n",
    "df = replace_column_data(df, clean_columns)"
   ]
  },
  {
   "attachments": {},
   "cell_type": "markdown",
   "metadata": {},
   "source": [
    "# Clean data"
   ]
  },
  {
   "attachments": {},
   "cell_type": "markdown",
   "metadata": {},
   "source": [
    "## clean empty data to NaN and change type of data to its correct type"
   ]
  },
  {
   "cell_type": "code",
   "execution_count": 4,
   "metadata": {},
   "outputs": [],
   "source": [
    "df = df.replace([\"null\", \"ไม่มีข้อมูล\"], np.NaN)\n",
    "df[\"price\"] = df[\"price\"].replace(r\",\", '', regex = True).astype(float)\n",
    "df[\"bedroom\"] = df[\"bedroom\"].replace(\"สตูดิโอ\", 0).astype(float)\n",
    "df[\"bathroom\"] = df[\"bathroom\"].astype(float)\n",
    "df[\"space\"] = df[\"space\"].str.extract(r\"([\\d\\.]+[\\d+])\").astype(float)\n",
    "df[\"year\"] = df[\"year\"].str.extract(r\"(\\d{4})\").astype(float)\n",
    "df[\"floor\"] = df[\"floor\"].astype(float)\n",
    "df.rename(columns={\"area (keat)\": \"area\", \"Province\": \"province\"}, inplace=True)"
   ]
  },
  {
   "attachments": {},
   "cell_type": "markdown",
   "metadata": {},
   "source": [
    "## extract number distance from station and convert to float"
   ]
  },
  {
   "cell_type": "code",
   "execution_count": 5,
   "metadata": {},
   "outputs": [],
   "source": [
    "def station(df):\n",
    "    for i in range(len(df)):\n",
    "        if isinstance(df['station'][i], float) and np.isnan(df['station'][i]):\n",
    "            yield np.NaN, np.NaN, np.NaN\n",
    "        else:\n",
    "            match = re.search(r'สถานีใกล้เคียง\\d+ นาที \\((\\d+) ม.\\) ถึง (\\w+)\\s(\\w+)\\s[ก-๙]+', str(df['station'][i]))\n",
    "            yield match.groups() if match else np.nan\n",
    "\n",
    "test_df = pd.DataFrame(station(df))\n",
    "test_df.columns = ['distance','station_type','station_name']\n",
    "test_df[\"distance\"] = test_df[\"distance\"].astype(float)\n",
    "df = pd.merge(df, test_df, left_index=True, right_index=True, how=\"left\")\n",
    "df = df.drop(columns=\"station\")"
   ]
  },
  {
   "cell_type": "code",
   "execution_count": 6,
   "metadata": {},
   "outputs": [
    {
     "data": {
      "text/plain": [
       "'สิ่งอำนวยความสะดวก & สถานที่ใกล้เคียง,สิ่งอำนวยความสะดวก,ลานจอดรถ,กล้องวงจรปิด,ห้องเล่นเกมส์,ห้องสมุด,สนามเด็กเล่น,ซาวน่า,รักษาความปลอดภัย 24 ชม.,สปา สระว่ายน้ำ,สนามสควอช,สระว่ายน้ำ,สนามเทนนิส'"
      ]
     },
     "execution_count": 6,
     "metadata": {},
     "output_type": "execute_result"
    }
   ],
   "source": [
    "df.loc[1, \"facility\"]"
   ]
  },
  {
   "attachments": {},
   "cell_type": "markdown",
   "metadata": {},
   "source": [
    "## seperate each function of facility into their own category"
   ]
  },
  {
   "cell_type": "code",
   "execution_count": 7,
   "metadata": {},
   "outputs": [],
   "source": [
    "def separate_facilities(df, **kwargs):\n",
    "    for col_name, keywords in kwargs.items():\n",
    "        df[col_name] = df[\"facility\"].apply(lambda x: True if isinstance(x, str) and any(keyword in x for keyword in keywords) else False)\n",
    "    return df\n",
    "\n",
    "df = separate_facilities(df, \n",
    "                            is_Security = ['รักษาความปลอดภัย 24 ชม.','ระบบรักษาความาปลอดภัยการเข้า-ออกอาคาร'],\n",
    "                            is_Laundry =['ซัก อบ รีด', 'เครื่องซักผ้า'],\n",
    "                            is_Parking_Lot= ['ที่จอดรถ','ลานจอดรถ','ลานจอดรถใต้ดิน','โรงรถ'],\n",
    "                            is_Bus_Stop= ['ป้ายรถเมล์'],\n",
    "                            is_Cleaning=['พนักงานทำความสะอาด'],\n",
    "                            is_Fitness =['ฟิตเนส','ลู่วิ่ง',],\n",
    "                            is_Convenient_Store = ['มินิมาร์ท',],\n",
    "                            is_Balcony=['ระเบียง',],\n",
    "                            is_View = ['วิวทะเล','วิวสระว่ายน้ำ','วิวเมือง','สวน/วิวสวนธรรมชาติ'],\n",
    "                            is_Sport_Facility = ['สนามบาส','สนามสควอช','สนามหัดเล่นกอล์ฟ','สนามเด็กเล่น','สนามเทนนิส','สนามแบดมินตัน','ห้องบิลเลียด','ห้องยิมนาสติก'],\n",
    "                            is_Pool =['สปา สระว่ายน้ำ','สระว่ายน้ำ','สระว่ายน้ำส่วนตัว','สระว่ายน้ำเพื่อความสนุก','สระเด็ก',],\n",
    "                            is_Park= ['สวนสาธารณะ',],\n",
    "                            is_Garden = ['สวนส่วนตัว',],\n",
    "                            is_corner_room = ['ห้องมุม',])\n",
    "\n",
    "df = df.drop(columns=\"facility\")"
   ]
  },
  {
   "attachments": {},
   "cell_type": "markdown",
   "metadata": {},
   "source": [
    "| Column Name   | Explanation                                     |\n",
    "| ------------- | -------------------------------------------------|\n",
    "| name          | Name of the property or listing                 |\n",
    "| price         | Price of the property or listing                |\n",
    "| province      | Province where the property is located          |\n",
    "| area  | Area of the property in \"keat\" units            |\n",
    "| district      | District where the property is located          |\n",
    "| bedroom       | Number of bedrooms in the property             |\n",
    "| bathroom      | Number of bathrooms in the property            |\n",
    "| space         | Space or size of the property                  |\n",
    "| year          | Year of construction or listing                |\n",
    "| type          | Type of property (e.g., house, apartment, etc.)|\n",
    "| furniture     | Information about the furniture in the property|\n",
    "| floor         | Floor number or level of the property          |\n",
    "| distance (m.) | Distance to a certain point (e.g., a station) in meters|\n",
    "| station_type  | Type of nearby station (e.g., MRT, BTS, etc.)    |\n",
    "| station_name  | Name of the nearby station                      |"
   ]
  },
  {
   "cell_type": "code",
   "execution_count": 8,
   "metadata": {},
   "outputs": [
    {
     "data": {
      "text/html": [
       "<div>\n",
       "<style scoped>\n",
       "    .dataframe tbody tr th:only-of-type {\n",
       "        vertical-align: middle;\n",
       "    }\n",
       "\n",
       "    .dataframe tbody tr th {\n",
       "        vertical-align: top;\n",
       "    }\n",
       "\n",
       "    .dataframe thead th {\n",
       "        text-align: right;\n",
       "    }\n",
       "</style>\n",
       "<table border=\"1\" class=\"dataframe\">\n",
       "  <thead>\n",
       "    <tr style=\"text-align: right;\">\n",
       "      <th></th>\n",
       "      <th>name</th>\n",
       "      <th>price</th>\n",
       "      <th>province</th>\n",
       "      <th>area</th>\n",
       "      <th>district</th>\n",
       "      <th>bedroom</th>\n",
       "      <th>bathroom</th>\n",
       "      <th>space</th>\n",
       "      <th>year</th>\n",
       "      <th>type</th>\n",
       "      <th>furniture</th>\n",
       "      <th>floor</th>\n",
       "      <th>distance</th>\n",
       "      <th>station_type</th>\n",
       "      <th>station_name</th>\n",
       "      <th>is_Security</th>\n",
       "      <th>is_Laundry</th>\n",
       "      <th>is_Parking_Lot</th>\n",
       "      <th>is_Bus_Stop</th>\n",
       "      <th>is_Cleaning</th>\n",
       "      <th>is_Fitness</th>\n",
       "      <th>is_Convenient_Store</th>\n",
       "      <th>is_Balcony</th>\n",
       "      <th>is_View</th>\n",
       "      <th>is_Sport_Facility</th>\n",
       "      <th>is_Pool</th>\n",
       "      <th>is_Park</th>\n",
       "      <th>is_Garden</th>\n",
       "      <th>is_corner_room</th>\n",
       "    </tr>\n",
       "  </thead>\n",
       "  <tbody>\n",
       "    <tr>\n",
       "      <th>0</th>\n",
       "      <td>Supalai Casa Riva : ศุภาลัย คาซา ริวา, กรุงเทพ</td>\n",
       "      <td>17500000.0</td>\n",
       "      <td>กรุงเทพ</td>\n",
       "      <td>บางคอแหลม</td>\n",
       "      <td>บางคอแหลม</td>\n",
       "      <td>3.0</td>\n",
       "      <td>3.0</td>\n",
       "      <td>240.0</td>\n",
       "      <td>2006.0</td>\n",
       "      <td>ขายขาด</td>\n",
       "      <td>NaN</td>\n",
       "      <td>NaN</td>\n",
       "      <td>720.0</td>\n",
       "      <td>B11</td>\n",
       "      <td>BRT</td>\n",
       "      <td>True</td>\n",
       "      <td>False</td>\n",
       "      <td>True</td>\n",
       "      <td>False</td>\n",
       "      <td>False</td>\n",
       "      <td>False</td>\n",
       "      <td>False</td>\n",
       "      <td>False</td>\n",
       "      <td>False</td>\n",
       "      <td>True</td>\n",
       "      <td>True</td>\n",
       "      <td>False</td>\n",
       "      <td>False</td>\n",
       "      <td>False</td>\n",
       "    </tr>\n",
       "    <tr>\n",
       "      <th>1</th>\n",
       "      <td>Supalai Casa Riva : ศุภาลัย คาซา ริวา, กรุงเทพ</td>\n",
       "      <td>19000000.0</td>\n",
       "      <td>กรุงเทพ</td>\n",
       "      <td>บางคอแหลม</td>\n",
       "      <td>บางคอแหลม</td>\n",
       "      <td>3.0</td>\n",
       "      <td>3.0</td>\n",
       "      <td>230.0</td>\n",
       "      <td>2006.0</td>\n",
       "      <td>ขายขาด</td>\n",
       "      <td>NaN</td>\n",
       "      <td>NaN</td>\n",
       "      <td>720.0</td>\n",
       "      <td>B11</td>\n",
       "      <td>BRT</td>\n",
       "      <td>True</td>\n",
       "      <td>False</td>\n",
       "      <td>True</td>\n",
       "      <td>False</td>\n",
       "      <td>False</td>\n",
       "      <td>False</td>\n",
       "      <td>False</td>\n",
       "      <td>False</td>\n",
       "      <td>False</td>\n",
       "      <td>True</td>\n",
       "      <td>True</td>\n",
       "      <td>False</td>\n",
       "      <td>False</td>\n",
       "      <td>False</td>\n",
       "    </tr>\n",
       "    <tr>\n",
       "      <th>2</th>\n",
       "      <td>Lumpini Place Rama 3 - Riverview : ลุมพินี เพล...</td>\n",
       "      <td>2500000.0</td>\n",
       "      <td>กรุงเทพ</td>\n",
       "      <td>บางคอแหลม</td>\n",
       "      <td>บางโคล่</td>\n",
       "      <td>1.0</td>\n",
       "      <td>1.0</td>\n",
       "      <td>39.0</td>\n",
       "      <td>2004.0</td>\n",
       "      <td>NaN</td>\n",
       "      <td>NaN</td>\n",
       "      <td>NaN</td>\n",
       "      <td>150.0</td>\n",
       "      <td>B10</td>\n",
       "      <td>BRT</td>\n",
       "      <td>True</td>\n",
       "      <td>False</td>\n",
       "      <td>True</td>\n",
       "      <td>False</td>\n",
       "      <td>False</td>\n",
       "      <td>False</td>\n",
       "      <td>False</td>\n",
       "      <td>False</td>\n",
       "      <td>False</td>\n",
       "      <td>True</td>\n",
       "      <td>True</td>\n",
       "      <td>False</td>\n",
       "      <td>False</td>\n",
       "      <td>False</td>\n",
       "    </tr>\n",
       "  </tbody>\n",
       "</table>\n",
       "</div>"
      ],
      "text/plain": [
       "                                                name       price province  \\\n",
       "0     Supalai Casa Riva : ศุภาลัย คาซา ริวา, กรุงเทพ  17500000.0  กรุงเทพ   \n",
       "1     Supalai Casa Riva : ศุภาลัย คาซา ริวา, กรุงเทพ  19000000.0  กรุงเทพ   \n",
       "2  Lumpini Place Rama 3 - Riverview : ลุมพินี เพล...   2500000.0  กรุงเทพ   \n",
       "\n",
       "        area   district  bedroom  bathroom  space    year    type furniture  \\\n",
       "0  บางคอแหลม  บางคอแหลม      3.0       3.0  240.0  2006.0  ขายขาด       NaN   \n",
       "1  บางคอแหลม  บางคอแหลม      3.0       3.0  230.0  2006.0  ขายขาด       NaN   \n",
       "2  บางคอแหลม    บางโคล่      1.0       1.0   39.0  2004.0     NaN       NaN   \n",
       "\n",
       "   floor  distance station_type station_name  is_Security  is_Laundry  \\\n",
       "0    NaN     720.0          B11          BRT         True       False   \n",
       "1    NaN     720.0          B11          BRT         True       False   \n",
       "2    NaN     150.0          B10          BRT         True       False   \n",
       "\n",
       "   is_Parking_Lot  is_Bus_Stop  is_Cleaning  is_Fitness  is_Convenient_Store  \\\n",
       "0            True        False        False       False                False   \n",
       "1            True        False        False       False                False   \n",
       "2            True        False        False       False                False   \n",
       "\n",
       "   is_Balcony  is_View  is_Sport_Facility  is_Pool  is_Park  is_Garden  \\\n",
       "0       False    False               True     True    False      False   \n",
       "1       False    False               True     True    False      False   \n",
       "2       False    False               True     True    False      False   \n",
       "\n",
       "   is_corner_room  \n",
       "0           False  \n",
       "1           False  \n",
       "2           False  "
      ]
     },
     "execution_count": 8,
     "metadata": {},
     "output_type": "execute_result"
    }
   ],
   "source": [
    "df.head(3)"
   ]
  },
  {
   "attachments": {},
   "cell_type": "markdown",
   "metadata": {},
   "source": [
    "## Clean name column"
   ]
  },
  {
   "cell_type": "code",
   "execution_count": null,
   "metadata": {},
   "outputs": [],
   "source": [
    "df[\"name\"] = df[\"name\"].str.extract(r\"(?P<name>.+)[,]\")\n",
    "df[\"name\"] = df[\"name\"].str.extract(r\"(?P<name>.+?[:]|.+)\")\n",
    "df[\"name\"] = df[\"name\"].str.replace(\":\", \"\").str.strip()"
   ]
  },
  {
   "attachments": {},
   "cell_type": "markdown",
   "metadata": {},
   "source": [
    "## Box plot to check value outliner"
   ]
  },
  {
   "cell_type": "code",
   "execution_count": null,
   "metadata": {},
   "outputs": [],
   "source": [
    "import matplotlib.pyplot as plt\n",
    "import seaborn as sns\n",
    "\n",
    "df.boxplot(column=[\"price\"])\n",
    "\n",
    "# Add labels and title\n",
    "plt.xlabel('Category')\n",
    "plt.ylabel('floor')\n",
    "plt.title('Box Plot from DataFrame')\n",
    "\n",
    "plt.show()"
   ]
  },
  {
   "cell_type": "code",
   "execution_count": null,
   "metadata": {},
   "outputs": [],
   "source": [
    "df[df['price'] == df['price'].max()]"
   ]
  },
  {
   "attachments": {},
   "cell_type": "markdown",
   "metadata": {},
   "source": [
    "## clean wrong ourliner"
   ]
  },
  {
   "cell_type": "code",
   "execution_count": null,
   "metadata": {},
   "outputs": [],
   "source": [
    "df.loc[4564, \"floor\"] = 15 #ตึกไม่สูงพอ\n",
    "df.loc[2662, \"space\"] = 605 #ตึกไม่กว้างพอ (เทียบกับห้องอื่นโครงเดียวกัน)\n",
    "df.loc[7076, \"price\"] = 19_800_000 #แพงไปไม่มีใครซื้อ"
   ]
  },
  {
   "cell_type": "code",
   "execution_count": null,
   "metadata": {},
   "outputs": [],
   "source": [
    "combined_list = sum(df[\"name\"].astype(str).str.split(',') , [])\n",
    "set(combined_list)"
   ]
  }
 ],
 "metadata": {
  "kernelspec": {
   "display_name": "base",
   "language": "python",
   "name": "python3"
  },
  "language_info": {
   "codemirror_mode": {
    "name": "ipython",
    "version": 3
   },
   "file_extension": ".py",
   "mimetype": "text/x-python",
   "name": "python",
   "nbconvert_exporter": "python",
   "pygments_lexer": "ipython3",
   "version": "3.9.16"
  },
  "orig_nbformat": 4
 },
 "nbformat": 4,
 "nbformat_minor": 2
}
