{
 "cells": [
  {
   "attachments": {},
   "cell_type": "markdown",
   "metadata": {},
   "source": [
    "<h1>Variable</h1>\n",
    "<ol>\n",
    "    <li>ทำเล/ที่ตั้ง</li>\n",
    "    <li>ขนาด</li>\n",
    "    <li>funtion ในห้อง</li>\n",
    "</ol>\n",
    "<p>pooh: ลานจอดรถถูกมองว่าไม่ทำเงินในทางการเงินจึงมักจจะถูกคิดค่าเสียโอกาศด้วย</p>"
   ]
  },
  {
   "cell_type": "code",
   "execution_count": 1,
   "metadata": {},
   "outputs": [],
   "source": [
    "import os\n",
    "import csv\n",
    "import numpy as np\n",
    "import pandas as pd\n",
    "pd.set_option('display.max_columns', None)\n",
    "# pd.set_option('display.max_rows', None)\n",
    "from functools import reduce\n",
    "\n",
    "def get_data():\n",
    "    dir_path = 'data/'\n",
    "    for filename in os.listdir(dir_path):\n",
    "        if filename.endswith('.csv'):\n",
    "            with open(os.path.join(dir_path, filename)) as csvfile:\n",
    "                data = list(csv.reader(csvfile))\n",
    "            yield data\n",
    "\n",
    "\n",
    "data = list(get_data())"
   ]
  },
  {
   "cell_type": "code",
   "execution_count": 2,
   "metadata": {},
   "outputs": [],
   "source": [
    "def create_dataframe(data):\n",
    "    for j in data:\n",
    "        yield pd.DataFrame(j[1:], columns = j[0])\n",
    "\n",
    "df_list = list(create_dataframe(data))"
   ]
  },
  {
   "cell_type": "code",
   "execution_count": 3,
   "metadata": {},
   "outputs": [],
   "source": [
    "df = reduce(lambda df1,df2: pd.merge(df1,df2,how ='outer'), df_list)"
   ]
  }
 ],
 "metadata": {
  "kernelspec": {
   "display_name": "base",
   "language": "python",
   "name": "python3"
  },
  "language_info": {
   "codemirror_mode": {
    "name": "ipython",
    "version": 3
   },
   "file_extension": ".py",
   "mimetype": "text/x-python",
   "name": "python",
   "nbconvert_exporter": "python",
   "pygments_lexer": "ipython3",
   "version": "3.9.13"
  },
  "orig_nbformat": 4,
  "vscode": {
   "interpreter": {
    "hash": "ad2bdc8ecc057115af97d19610ffacc2b4e99fae6737bb82f5d7fb13d2f2c186"
   }
  }
 },
 "nbformat": 4,
 "nbformat_minor": 2
}
